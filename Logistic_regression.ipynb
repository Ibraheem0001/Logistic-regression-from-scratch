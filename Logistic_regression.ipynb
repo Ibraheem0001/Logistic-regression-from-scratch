{
 "cells": [
  {
   "cell_type": "code",
   "execution_count": 1,
   "id": "baa9fe43",
   "metadata": {},
   "outputs": [],
   "source": [
    "import numpy as np\n",
    "import matplotlib.pyplot as plt\n",
    "from sklearn import datasets\n",
    "from math import exp\n",
    "import time"
   ]
  },
  {
   "cell_type": "code",
   "execution_count": 2,
   "id": "d1ce83ff",
   "metadata": {},
   "outputs": [],
   "source": [
    "# the logistic function\n",
    "def logistic_func(theta, x):\n",
    "    t = x.dot(theta)\n",
    "    g = np.zeros(t.shape)\n",
    "    # split into positive and negative to improve stability\n",
    "    g[t>=0.0] = 1.0 / (1.0 + np.exp(-t[t>=0.0]))\n",
    "    g[t<0.0] = np.exp(t[t<0.0]) / (np.exp(t[t<0.0])+1.0)\n",
    "    return g\n",
    "\n",
    "# function to compute log-likelihood\n",
    "def neg_log_like(theta, x, y):\n",
    "    g = logistic_func(theta,x)\n",
    "    return -sum(np.log(g[y>0.5])) - sum(np.log(1-g[y<0.5]))\n",
    "\n",
    "# function to compute the gradient of the negative log-likelihood\n",
    "def log_grad(theta, x, y):\n",
    "    g = logistic_func(theta,x)\n",
    "    return -x.T.dot(y-g)"
   ]
  },
  {
   "cell_type": "code",
   "execution_count": 3,
   "id": "6a1855e4",
   "metadata": {},
   "outputs": [],
   "source": [
    "# implementation of gradient descent for logistic regression\n",
    "# INPUTS:\n",
    "#   tol: tolerance for GD. If ||theta_k - theta_{k-1}||_2 <= tol, STOP.\n",
    "#           theta_k is the estimate for \\theta at iter k\n",
    "#   blocksize: the number of samples used in approximating the gradient\n",
    "#   maxiter: maximum number of iterations.\n",
    "#######################################################\n",
    "#######################################################\n",
    "##              TODO: PROBLEM 1                      ##\n",
    "#######################################################\n",
    "#######################################################\n",
    "def stoc_grad_desc(theta, x, y, alpha, blocksize, tol, maxiter):\n",
    "    #YOUR IMPLEMENTATION HERE\n",
    "    \n",
    "    \n",
    "    vec = []\n",
    "    #arr=np.array([])\n",
    "    vec.append(neg_log_like(theta, x, y))\n",
    "    delta = 2.0*tol\n",
    "    iter = 0\n",
    "    \n",
    "    np.random.seed(9001)\n",
    "    i = np.random.permutation(len(x))\n",
    "#     print(i)\n",
    "    \n",
    "    index=0\n",
    "    \n",
    "    while (delta > tol ) and (iter < maxiter):\n",
    "        \n",
    "        calculate_grad = log_grad(theta, x[i[index:index+blocksize]], y[i[index:index+blocksize]])\n",
    "        theta = theta - (alpha * calculate_grad) \n",
    "#         print(f'--- batch size {blocksize} -- Gradient updated {i[index:index+blocksize]}')\n",
    "        #theta = theta - (alpha * log_grad(theta, x[i[blocksize]], y[i[blocksize]]))    \n",
    "        \n",
    "        vec.append(neg_log_like(theta, x, y))\n",
    "        delta = np.abs(vec[-2]-vec[-1])\n",
    "#         print(x[i[index]:i[index+blocksize]])\n",
    "        iter += 1\n",
    "        \n",
    "        \n",
    "        index=index+blocksize\n",
    "        if(index+blocksize>= len(x)-1 ):\n",
    "            index=0\n",
    "    #arr = np.array(vec) \n",
    "    #arr=arr*(-1)\n",
    "    return theta, np.array(vec), delta\n",
    "#     return theta, arr\n",
    "    \n",
    "    \n",
    "    \n",
    "    \n",
    "    return None, None #RETURN: 2 values: estimated theta, cost at each iteration as np.array\n",
    "\n",
    "# function to compute output of LR classifier (unused)\n",
    "def lr_predict(theta,x):\n",
    "    # form Xtilde for prediction\n",
    "    shape = x.shape\n",
    "    Xtilde = np.zeros((shape[0],shape[1]+1))\n",
    "    Xtilde[:,0] = np.ones(shape[0])\n",
    "    Xtilde[:,1:] = x\n",
    "    return logistic_func(theta,Xtilde)"
   ]
  },
  {
   "cell_type": "code",
   "execution_count": 4,
   "id": "0a1e6d3a",
   "metadata": {},
   "outputs": [
    {
     "name": "stdout",
     "output_type": "stream",
     "text": [
      "Block size = 1------------------\n",
      "Running time of SGD: 0.26969313621520996\n",
      "Final value of negative log-likelihood of SGD: 424.1538524259365\n",
      "Converged at delta of: 2.296441834914731e-05\n",
      "Number of iterations for SGD: 2826\n",
      "Block size = 5------------------\n",
      "Running time of SGD: 0.18848085403442383\n",
      "Final value of negative log-likelihood of SGD: 406.3781820792126\n",
      "Converged at delta of: 2.4406625925621483e-05\n",
      "Number of iterations for SGD: 1927\n",
      "Block size = 10------------------\n",
      "Running time of SGD: 0.21774554252624512\n",
      "Final value of negative log-likelihood of SGD: 404.93353787794206\n",
      "Converged at delta of: 1.7329949230315833e-05\n",
      "Number of iterations for SGD: 2184\n"
     ]
    },
    {
     "data": {
      "image/png": "[encoded data removed]",
      "text/plain": [
       "<Figure size 432x288 with 1 Axes>"
      ]
     },
     "metadata": {
      "needs_background": "light"
     },
     "output_type": "display_data"
    }
   ],
   "source": [
    "## Generate dataset\n",
    "np.random.seed(2022) # Set random seed so results are repeatable\n",
    "x,y = datasets.make_blobs(n_samples=1000,n_features=2,centers=2,cluster_std=5.0)\n",
    "\n",
    "## build classifier\n",
    "# form Xtilde\n",
    "shape = x.shape\n",
    "xtilde = np.zeros((shape[0],shape[1]+1))\n",
    "xtilde[:,0] = np.ones(shape[0])\n",
    "xtilde[:,1:] = x\n",
    "\n",
    "theta_sgd = np.zeros(shape[1]+1)\n",
    "\n",
    "# Run gradient descent\n",
    "alpha = 1e-4\n",
    "maxiter = 100000\n",
    "tol = 3e-5\n",
    "\n",
    "blocksizes = [1,5,10]\n",
    "legend_block = []\n",
    "\n",
    "for blocksize in blocksizes:\n",
    "    start = time.time()\n",
    "    theta_sgd, cost_sgd,delta = stoc_grad_desc(theta_sgd, xtilde, y, alpha, blocksize, tol, maxiter)\n",
    "    end = time.time()\n",
    "\n",
    "    legend_block.append(\"Block size = \" + str(blocksize))\n",
    "    print('Block size = ' + str(blocksize) + '------------------')\n",
    "    print('Running time of SGD: ' + str(end-start))\n",
    "    print('Final value of negative log-likelihood of SGD: ' + str(cost_sgd[-1]))\n",
    "    print('Converged at delta of: ' + str(delta))\n",
    "    print('Number of iterations for SGD: ' + str(len(cost_sgd)-1))\n",
    "\n",
    "    plt.plot(np.arange(len(cost_sgd)), cost_sgd)\n",
    "    theta_sgd = np.zeros(shape[1]+1)\n",
    "\n",
    "plt.xlabel(\"Number of iterations\")\n",
    "plt.ylabel(\"Cost\")\n",
    "plt.title(\"Logistic regression cost vs. iterations\")\n",
    "plt.legend(legend_block)\n",
    "plt.savefig(\"cost_vs_iter_sgd.png\")\n",
    "plt.show()\n"
   ]
  },
  {
   "cell_type": "code",
   "execution_count": null,
   "id": "258d32fa",
   "metadata": {},
   "outputs": [],
   "source": []
  },
  {
   "cell_type": "code",
   "execution_count": null,
   "id": "c0cdca1f",
   "metadata": {},
   "outputs": [],
   "source": []
  }
 ],
 "metadata": {
  "kernelspec": {
   "display_name": "Python 3 (ipykernel)",
   "language": "python",
   "name": "python3"
  },
  "language_info": {
   "codemirror_mode": {
    "name": "ipython",
    "version": 3
   },
   "file_extension": ".py",
   "mimetype": "text/x-python",
   "name": "python",
   "nbconvert_exporter": "python",
   "pygments_lexer": "ipython3",
   "version": "3.9.12"
  }
 },
 "nbformat": 4,
 "nbformat_minor": 5
}
